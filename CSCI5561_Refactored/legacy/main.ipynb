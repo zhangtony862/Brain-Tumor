{
 "cells": [
  {
   "cell_type": "code",
   "execution_count": 1,
   "id": "527a7080",
   "metadata": {
    "ExecuteTime": {
     "end_time": "2023-04-09T08:40:13.812241Z",
     "start_time": "2023-04-09T08:40:11.520733Z"
    }
   },
   "outputs": [],
   "source": [
    "import torch\n",
    "import cv2\n",
    "import random\n",
    "import numpy as np\n",
    "from tqdm.auto import tqdm\n",
    "import os\n",
    "import math\n",
    "import glob\n",
    "import nibabel as nib\n",
    "import matplotlib.pyplot as plt"
   ]
  },
  {
   "cell_type": "code",
   "execution_count": 2,
   "id": "3985515c",
   "metadata": {
    "ExecuteTime": {
     "end_time": "2023-04-09T08:40:13.828356Z",
     "start_time": "2023-04-09T08:40:13.813240Z"
    }
   },
   "outputs": [],
   "source": [
    "from concurrent.futures import ThreadPoolExecutor"
   ]
  },
  {
   "cell_type": "markdown",
   "id": "d6e07568",
   "metadata": {},
   "source": [
    "# Data Preprocessing"
   ]
  },
  {
   "cell_type": "code",
   "execution_count": 3,
   "id": "493f147b",
   "metadata": {
    "ExecuteTime": {
     "end_time": "2023-04-09T08:40:13.844359Z",
     "start_time": "2023-04-09T08:40:13.830356Z"
    }
   },
   "outputs": [],
   "source": [
    "train_dir = './train_set_raw'\n",
    "train_dir_processed = './train_set_processed'\n",
    "\n",
    "sample_dir = glob.glob(os.path.join(train_dir, \"*\", \"*\"))"
   ]
  },
  {
   "cell_type": "code",
   "execution_count": 4,
   "id": "5981d764",
   "metadata": {
    "ExecuteTime": {
     "end_time": "2023-04-09T08:40:13.860363Z",
     "start_time": "2023-04-09T08:40:13.845359Z"
    }
   },
   "outputs": [
    {
     "data": {
      "text/plain": [
       "\"\\nfor sample in tqdm(sample_dir):\\n    label_img = np.asanyarray(nib.load(os.path.join(sample, os.path.split(sample)[-1] + '_seg.nii')).dataobj)\\n    flair_image = np.asanyarray(nib.load(os.path.join(sample, os.path.split(sample)[-1] + '_flair.nii')).dataobj)\\n    t1_image = np.asanyarray(nib.load(os.path.join(sample, os.path.split(sample)[-1] + '_t1.nii')).dataobj)\\n    t1ce_image = np.asanyarray(nib.load(os.path.join(sample, os.path.split(sample)[-1] + '_t1ce.nii')).dataobj)\\n    t2_image = np.asanyarray(nib.load(os.path.join(sample, os.path.split(sample)[-1] + '_t2.nii')).dataobj)\\n    x_concatenated = np.stack([flair_image, t1_image, t1ce_image, t2_image], axis=-1)\\n    x_transposed = np.transpose(x_concatenated, (2, 3, 0, 1))\\n    x_reshaped = x_transposed.reshape((flair_image.shape[-1], 4, flair_image.shape[0], flair_image.shape[1])) #layer*channel*h*w\\n    y_transposed = np.transpose(label_img, (2,0,1)) #layer*h*w\\n    output_dir = os.path.join(train_dir_processed, os.path.split(sample)[-1]+'.npz')\\n    np.savez_compressed(output_dir, x=x_reshaped, y=y_transposed)\\n\""
      ]
     },
     "execution_count": 4,
     "metadata": {},
     "output_type": "execute_result"
    }
   ],
   "source": [
    "'''\n",
    "for sample in tqdm(sample_dir):\n",
    "    label_img = np.asanyarray(nib.load(os.path.join(sample, os.path.split(sample)[-1] + '_seg.nii')).dataobj)\n",
    "    flair_image = np.asanyarray(nib.load(os.path.join(sample, os.path.split(sample)[-1] + '_flair.nii')).dataobj)\n",
    "    t1_image = np.asanyarray(nib.load(os.path.join(sample, os.path.split(sample)[-1] + '_t1.nii')).dataobj)\n",
    "    t1ce_image = np.asanyarray(nib.load(os.path.join(sample, os.path.split(sample)[-1] + '_t1ce.nii')).dataobj)\n",
    "    t2_image = np.asanyarray(nib.load(os.path.join(sample, os.path.split(sample)[-1] + '_t2.nii')).dataobj)\n",
    "    x_concatenated = np.stack([flair_image, t1_image, t1ce_image, t2_image], axis=-1)\n",
    "    x_transposed = np.transpose(x_concatenated, (2, 3, 0, 1))\n",
    "    x_reshaped = x_transposed.reshape((flair_image.shape[-1], 4, flair_image.shape[0], flair_image.shape[1])) #layer*channel*h*w\n",
    "    y_transposed = np.transpose(label_img, (2,0,1)) #layer*h*w\n",
    "    output_dir = os.path.join(train_dir_processed, os.path.split(sample)[-1]+'.npz')\n",
    "    np.savez_compressed(output_dir, x=x_reshaped, y=y_transposed)\n",
    "'''"
   ]
  },
  {
   "cell_type": "code",
   "execution_count": 5,
   "id": "9a9afd85",
   "metadata": {
    "ExecuteTime": {
     "end_time": "2023-04-09T08:40:13.876366Z",
     "start_time": "2023-04-09T08:40:13.861363Z"
    }
   },
   "outputs": [],
   "source": [
    "def read_nii(path):\n",
    "    image = nib.load(path)\n",
    "    image = np.asanyarray(image.dataobj)\n",
    "    return image"
   ]
  },
  {
   "cell_type": "code",
   "execution_count": 6,
   "id": "e20d11af",
   "metadata": {
    "ExecuteTime": {
     "end_time": "2023-04-09T08:40:13.892012Z",
     "start_time": "2023-04-09T08:40:13.877367Z"
    }
   },
   "outputs": [],
   "source": [
    "def process_sample(sample):\n",
    "    # Fetch the images\n",
    "    label_img = read_nii(os.path.join(sample, os.path.split(sample)[-1] + '_seg.nii'))\n",
    "    flair_image = read_nii(os.path.join(sample, os.path.split(sample)[-1] + '_flair.nii'))\n",
    "    t1_image = read_nii(os.path.join(sample, os.path.split(sample)[-1] + '_t1.nii'))\n",
    "    t1ce_image = read_nii(os.path.join(sample, os.path.split(sample)[-1] + '_t1ce.nii'))\n",
    "    t2_image = read_nii(os.path.join(sample, os.path.split(sample)[-1] + '_t2.nii'))\n",
    "    \n",
    "    # Process the raw images, denoted as x\n",
    "    x_concatenated = np.stack([flair_image, t1_image, t1ce_image, t2_image], axis=-1)\n",
    "    x_transposed = np.transpose(x_concatenated, (2, 3, 0, 1))\n",
    "    x_reshaped = x_transposed.reshape(flair_image.shape[-1], 4, flair_image.shape[0], flair_image.shape[1]) #layer*channel*h*w\n",
    "    \n",
    "    # Process the label, denoted as y\n",
    "    y_transposed = np.transpose(label_img, (2,0,1)) #layer*h*w\n",
    "    \n",
    "    # Save the two in a single npz file\n",
    "    output_dir = os.path.join(train_dir_processed, os.path.split(sample)[-1]+'.npz')\n",
    "    np.savez_compressed(output_dir, x=x_reshaped, y=y_transposed)"
   ]
  },
  {
   "cell_type": "code",
   "execution_count": 7,
   "id": "da5e78d1",
   "metadata": {
    "ExecuteTime": {
     "end_time": "2023-04-09T08:40:13.908015Z",
     "start_time": "2023-04-09T08:40:13.893012Z"
    }
   },
   "outputs": [
    {
     "name": "stdout",
     "output_type": "stream",
     "text": [
      "Found the preprocessed dataset folder not empty. Data preprocessing skipped.\n"
     ]
    }
   ],
   "source": [
    "# Multiprocess on preprocessing the dataset\n",
    "if not os.listdir(train_dir_processed):\n",
    "    with ThreadPoolExecutor(max_workers=os.cpu_count()) as executor:\n",
    "        list(tqdm(executor.map(process_sample, sample_dir), total=len(sample_dir)))\n",
    "else:\n",
    "    print('Found the preprocessed dataset folder not empty. Data preprocessing skipped.')"
   ]
  },
  {
   "cell_type": "code",
   "execution_count": null,
   "id": "0b784e67",
   "metadata": {},
   "outputs": [],
   "source": []
  },
  {
   "cell_type": "code",
   "execution_count": null,
   "id": "34e46957",
   "metadata": {},
   "outputs": [],
   "source": []
  },
  {
   "cell_type": "code",
   "execution_count": null,
   "id": "ef64bd20",
   "metadata": {},
   "outputs": [],
   "source": []
  },
  {
   "cell_type": "code",
   "execution_count": null,
   "id": "a5aaa590",
   "metadata": {},
   "outputs": [],
   "source": []
  },
  {
   "cell_type": "code",
   "execution_count": null,
   "id": "37117e45",
   "metadata": {},
   "outputs": [],
   "source": []
  },
  {
   "cell_type": "code",
   "execution_count": null,
   "id": "7e45e504",
   "metadata": {},
   "outputs": [],
   "source": []
  },
  {
   "cell_type": "code",
   "execution_count": null,
   "id": "f9ee0d8c",
   "metadata": {},
   "outputs": [],
   "source": []
  },
  {
   "cell_type": "code",
   "execution_count": null,
   "id": "3deec023",
   "metadata": {},
   "outputs": [],
   "source": []
  },
  {
   "cell_type": "code",
   "execution_count": null,
   "id": "d88a9c92",
   "metadata": {},
   "outputs": [],
   "source": []
  },
  {
   "cell_type": "code",
   "execution_count": null,
   "id": "d32d8d16",
   "metadata": {},
   "outputs": [],
   "source": []
  },
  {
   "cell_type": "code",
   "execution_count": null,
   "id": "61593217",
   "metadata": {},
   "outputs": [],
   "source": []
  }
 ],
 "metadata": {
  "kernelspec": {
   "display_name": "Python 3",
   "language": "python",
   "name": "python3"
  },
  "language_info": {
   "codemirror_mode": {
    "name": "ipython",
    "version": 3
   },
   "file_extension": ".py",
   "mimetype": "text/x-python",
   "name": "python",
   "nbconvert_exporter": "python",
   "pygments_lexer": "ipython3",
   "version": "3.8.8"
  }
 },
 "nbformat": 4,
 "nbformat_minor": 5
}
